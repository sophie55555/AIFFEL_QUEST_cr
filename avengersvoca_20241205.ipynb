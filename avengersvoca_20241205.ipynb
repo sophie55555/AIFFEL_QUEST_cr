{
  "nbformat": 4,
  "nbformat_minor": 0,
  "metadata": {
    "colab": {
      "private_outputs": true,
      "provenance": [],
      "include_colab_link": true
    },
    "kernelspec": {
      "name": "python3",
      "display_name": "Python 3"
    },
    "language_info": {
      "name": "python"
    }
  },
  "cells": [
    {
      "cell_type": "markdown",
      "metadata": {
        "id": "view-in-github",
        "colab_type": "text"
      },
      "source": [
        "<a href=\"https://colab.research.google.com/github/sophie55555/AIFFEL_QUEST_cr/blob/master/avengersvoca_20241205.ipynb\" target=\"_parent\"><img src=\"https://colab.research.google.com/assets/colab-badge.svg\" alt=\"Open In Colab\"/></a>"
      ]
    },
    {
      "cell_type": "code",
      "source": [
        "from google.colab import drive\n",
        "drive.mount('/content/drive')"
      ],
      "metadata": {
        "id": "SHNwq7fIZ6nE"
      },
      "execution_count": null,
      "outputs": []
    },
    {
      "cell_type": "code",
      "source": [
        "import re\n",
        "from collections import Counter\n",
        "\n",
        "# 1. 텍스트 전처리 함수\n",
        "def process_text(file_path):\n",
        "    with open(file_path, 'r', encoding='utf-8') as file:\n",
        "        text = file.read()\n",
        "#with 파일을 열고 작업이 끝난 뒤 자동으로 파일을 닫아줍니다.\n",
        "#파일이 UTF-8 인코딩으로 저장되어 있다면, 올바르게 읽기 위해 `encoding='utf-8'`을 지정해야 합니다.\n",
        "#만약 인코딩을 지정하지 않으면, 파이썬은 시스템 기본 인코딩(Windows는 `cp949`, macOS/리눅스는 `utf-8`)을 사용하기 때문에, 특정 상황에서 **한글 깨짐 문제**가 발생할 수 있습니다.\n",
        "\n",
        "\n",
        "    # 소문자로 변환\n",
        "    text = text.lower()\n",
        "    # 기호 제거\n",
        "    text = re.sub(r'[^\\w\\s]', '', text)\n",
        "    #[^\\w\\s]: 알파벳(A-Za-z), 숫자(0-9), 밑줄(_), 공백이 아닌 문자 찾는 패턴\n",
        "    #찾아낸 문자들을 빈 문자열('')로 대체하여 제거.\n",
        "    #text에서 특정 패턴에 맞는 부분을 찾아 다른 문자열로 대체(substitute)하는 코드\n",
        "    # 단어 단위로 분리\n",
        "    words = text.split()\n",
        "    return words\n",
        "\n",
        "# 2. 단어 빈도 계산 및 딕셔너리 생성 / build_vocab이라는 함수로, 단어의 빈도를 계산하고, 등장 횟수에 따라 단어에 정수 인덱스를 부여\n",
        "def build_vocab(words):\n",
        "    # 단어 빈도 계산\n",
        "    word_counts = Counter(words)\n",
        "    # 빈도 기준 내림차순 정렬 후 정수 인덱스 부여\n",
        "    #Counter: 파이썬 collections 모듈에서 제공하는 클래스. 반복 가능한(iterable) 객체에서 각 항목의 빈도(횟수)를 계산하여 딕셔너리 형태로 반환\n",
        "    sorted_vocab = {word: idx for idx, (word, _) in enumerate(word_counts.most_common(), start=1)}\n",
        "    #word_counts.most_common(): 단어를 등장 횟수(빈도수)를 기준으로 내림차순으로 정렬해 리스트 형태로 반환\n",
        "    #enumerate: 반복 가능한 객체를 열거하여, 각 항목에 인덱스(번호)를 부여\n",
        "    #word: idx: 딕셔너리에 단어를 키(key), 번호를 값(value)으로 저장하는 딕셔너리 생성\n",
        "    #idx는 enumerate로 생성된 번호를 저장하는 변수\n",
        "    #(word, _)에서 _(언더스코어)는 는 파이썬에서 \"이 값을 사용하지 않겠다\"는 관례적인 표현입니다.변수처럼 값을 할당받지만, 실제 코드에서 해당 값을 무시하거나 사용하지 않을 때 _를 사용합니다.\n",
        "    return sorted_vocab, word_counts\n",
        "\n",
        "# 3. 문장을 정수 리스트로 변환하는 함수\n",
        "def encode_sentence(sentence, vocab):\n",
        "    # 입력 문장을 소문자로 변환하고, 기호 제거 후 단어 분리\n",
        "    sentence = sentence.lower()\n",
        "    sentence = re.sub(r'[^\\w\\s]', '', sentence)\n",
        "    #[^\\w\\s]: 알파벳(A-Za-z), 숫자(0-9), 밑줄(_), 공백이 아닌 문자 찾는 패턴\n",
        "    #찾아낸 문자들을 빈 문자열('')로 대체하여 제거.\n",
        "    #sentence에서 특정 패턴에 맞는 부분을 찾아 다른 문자열로 대체(substitute)하는 코드\n",
        "    words = sentence.split()\n",
        "    # 단어를 정수로 변환 (vocab에 없는 단어는 0으로 처리)\n",
        "    encoded = [vocab.get(word, 0) for word in words]\n",
        "    return encoded\n",
        "\n",
        "# 4. 텍스트를 입력받아 결과 값 출력\n",
        "file_path = '/content/sample_data/Avengers.txt'  # Avengers.txt 파일 경로\n",
        "\n",
        "words = process_text(file_path)   #텍스트 처리\n",
        "vocab, word_counts = build_vocab(words)   #단어 딕셔너리 생성\n",
        "\n",
        "test_sentence = input(\"텍스트를 입력하세요: \")  #사용자 입력\n",
        "encoded_sentence = encode_sentence(test_sentence, vocab)\n",
        "print(encoded_sentence)\n"
      ],
      "metadata": {
        "id": "-ywS8NqT4G3T"
      },
      "execution_count": null,
      "outputs": []
    },
    {
      "cell_type": "markdown",
      "source": [
        "# **회고**\n",
        "\n",
        "### 고명지\n",
        "저희 팀은 상의한 결과 챗gpt의 도움을 많이 받았습니다. 하지만 해당 코드의 내용을 이해하려고 노력하였습니다. 코드를 이해하려고 노력하는 과정에서 이해하지 못했던 내용을 이해할 수 있어 개인적으로는 유익한 시간이었습니다.\n",
        "\n",
        "### 강민성\n",
        "능력이 부족하여 챗gpt의 힘을 빌렸습니다.. ㅜㅜ 더 정진해야겠다는 마음이 크게 들었습니다. 챗gpt가 구현해준 코드를 하나하나 검색하며 학습하였습니다. 다음에는 AI의 도움 없이 코드를 구현해보고 싶습니다."
      ],
      "metadata": {
        "id": "AFTMUl657fGp"
      }
    }
  ]
}